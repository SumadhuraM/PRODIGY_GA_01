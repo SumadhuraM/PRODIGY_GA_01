{
 "cells": [
  {
   "cell_type": "code",
   "execution_count": 5,
   "id": "37cce900",
   "metadata": {},
   "outputs": [
    {
     "name": "stdout",
     "output_type": "stream",
     "text": [
      "=== Markov Chain Generation Debug ===\n",
      "\n",
      "Starting key: ('AI', 'learns')\n",
      "Initial output: ['AI', 'learns'] \n",
      "\n",
      "Step 1:\n",
      "  Current key: ('AI', 'learns')\n",
      "  Possible next words: ['patterns']\n",
      "  Chosen next word: patterns\n",
      "  Updated key for next step: ('learns', 'patterns')\n",
      "  Output so far: AI learns patterns \n",
      "\n",
      "Step 2:\n",
      "  Current key: ('learns', 'patterns')\n",
      "  Possible next words: ['and']\n",
      "  Chosen next word: and\n",
      "  Updated key for next step: ('patterns', 'and')\n",
      "  Output so far: AI learns patterns and \n",
      "\n",
      "Step 3:\n",
      "  Current key: ('patterns', 'and')\n",
      "  Possible next words: ['generates']\n",
      "  Chosen next word: generates\n",
      "  Updated key for next step: ('and', 'generates')\n",
      "  Output so far: AI learns patterns and generates \n",
      "\n",
      "Step 4:\n",
      "  Current key: ('and', 'generates')\n",
      "  Possible next words: ['text.']\n",
      "  Chosen next word: text.\n",
      "  Updated key for next step: ('generates', 'text.')\n",
      "  Output so far: AI learns patterns and generates text. \n",
      "\n",
      "No next words for key: ('generates', 'text.') - stopping generation.\n",
      "\n",
      "=== Final Generated Text ===\n",
      "AI learns patterns and generates text.\n"
     ]
    }
   ],
   "source": [
    "import random\n",
    "\n",
    "# Example text (replace with your own)\n",
    "text = \"Machine learning is transforming the world. AI learns patterns and generates text.\".split()\n",
    "\n",
    "order = 2  # context window size\n",
    "\n",
    "# Build the Markov dictionary\n",
    "markov = {}\n",
    "for i in range(len(text) - order):\n",
    "    key = tuple(text[i:i+order])\n",
    "    next_word = text[i+order]\n",
    "    if key not in markov:\n",
    "        markov[key] = []\n",
    "    markov[key].append(next_word)\n",
    "\n",
    "# Generate text with debug info\n",
    "num_words = 20  # shorter for clarity\n",
    "key = random.choice(list(markov.keys()))\n",
    "output = list(key)\n",
    "\n",
    "print(\"=== Markov Chain Generation Debug ===\\n\")\n",
    "print(\"Starting key:\", key)\n",
    "print(\"Initial output:\", output, \"\\n\")\n",
    "\n",
    "for i in range(num_words):\n",
    "    next_words = markov.get(key)\n",
    "    if not next_words:\n",
    "        print(\"No next words for key:\", key, \"- stopping generation.\\n\")\n",
    "        break\n",
    "    next_word = random.choice(next_words)\n",
    "    \n",
    "    print(f\"Step {i+1}:\")\n",
    "    print(\"  Current key:\", key)\n",
    "    print(\"  Possible next words:\", next_words)\n",
    "    print(\"  Chosen next word:\", next_word)\n",
    "    \n",
    "    output.append(next_word)\n",
    "    key = tuple(output[-order:])\n",
    "    print(\"  Updated key for next step:\", key)\n",
    "    print(\"  Output so far:\", \" \".join(output), \"\\n\")\n",
    "\n",
    "generated_text = \" \".join(output)\n",
    "print(\"=== Final Generated Text ===\")\n",
    "print(generated_text)\n",
    "\n"
   ]
  },
  {
   "cell_type": "code",
   "execution_count": 7,
   "id": "7f1b1804-c497-47b7-ad8c-e86d0e624783",
   "metadata": {},
   "outputs": [
    {
     "name": "stdout",
     "output_type": "stream",
     "text": [
      "d generates transforming is text.\n"
     ]
    }
   ],
   "source": [
    "import random\n",
    "\n",
    "# --- Step 0: Example text ---\n",
    "text = \"Machine learning is transforming the world. AI learns patterns and generates text.\"\n",
    "\n",
    "# Split text into characters\n",
    "chars = list(text)\n",
    "\n",
    "# --- Step 1: Set order (number of previous characters to remember) ---\n",
    "order = 3  # context window (3 previous characters)\n",
    "\n",
    "# --- Step 2: Build the Markov dictionary ---\n",
    "markov = {}\n",
    "for i in range(len(chars) - order):\n",
    "    key = tuple(chars[i:i+order])\n",
    "    next_char = chars[i+order]\n",
    "    if key not in markov:\n",
    "        markov[key] = []\n",
    "    markov[key].append(next_char)\n",
    "\n",
    "# --- Step 3: Generate text ---\n",
    "num_chars = 200  # number of characters to generate\n",
    "key = random.choice(list(markov.keys()))\n",
    "output = list(key)\n",
    "\n",
    "for _ in range(num_chars):\n",
    "    next_chars = markov.get(key)\n",
    "    if not next_chars:\n",
    "        break\n",
    "    next_char = random.choice(next_chars)\n",
    "    output.append(next_char)\n",
    "    key = tuple(output[-order:])\n",
    "\n",
    "# --- Step 4: Print generated text ---\n",
    "generated_text = \"\".join(output)\n",
    "print(generated_text)\n"
   ]
  },
  {
   "cell_type": "code",
   "execution_count": 9,
   "id": "b638d515-0474-45bd-bcff-9045ff510851",
   "metadata": {},
   "outputs": [
    {
     "ename": "ModuleNotFoundError",
     "evalue": "No module named 'markovify'",
     "output_type": "error",
     "traceback": [
      "\u001b[1;31m---------------------------------------------------------------------------\u001b[0m",
      "\u001b[1;31mModuleNotFoundError\u001b[0m                       Traceback (most recent call last)",
      "Cell \u001b[1;32mIn[9], line 1\u001b[0m\n\u001b[1;32m----> 1\u001b[0m \u001b[38;5;28;01mimport\u001b[39;00m \u001b[38;5;21;01mmarkovify\u001b[39;00m\n\u001b[0;32m      3\u001b[0m \u001b[38;5;66;03m# Generate multiple sentences\u001b[39;00m\n\u001b[0;32m      4\u001b[0m num_sentences \u001b[38;5;241m=\u001b[39m \u001b[38;5;241m10\u001b[39m\n",
      "\u001b[1;31mModuleNotFoundError\u001b[0m: No module named 'markovify'"
     ]
    }
   ],
   "source": [
    "import markovify\n",
    "\n",
    "# Generate multiple sentences\n",
    "num_sentences = 10\n",
    "print(\"Generated Sentences:\\n\")\n",
    "for i in range(num_sentences):\n",
    "    sentence = text_model.make_sentence()\n",
    "    if sentence:\n",
    "        print(f\"{i+1}: {sentence}\")\n",
    "    else:\n",
    "        print(f\"{i+1}: [Could not generate a sentence]\")\n",
    "\n",
    "# Optional: generate slightly longer sentences\n",
    "print(\"\\nLonger Sentences:\\n\")\n",
    "for i in range(5):\n",
    "    sentence = text_model.make_sentence(tries=100, max_overlap_ratio=0.7)\n",
    "    if sentence:\n",
    "        print(f\"{i+1}: {sentence}\")\n"
   ]
  },
  {
   "cell_type": "code",
   "execution_count": null,
   "id": "c6b00635-49a8-4f4f-9ac5-902b46a16d61",
   "metadata": {},
   "outputs": [],
   "source": []
  }
 ],
 "metadata": {
  "kernelspec": {
   "display_name": "Python [conda env:base] *",
   "language": "python",
   "name": "conda-base-py"
  },
  "language_info": {
   "codemirror_mode": {
    "name": "ipython",
    "version": 3
   },
   "file_extension": ".py",
   "mimetype": "text/x-python",
   "name": "python",
   "nbconvert_exporter": "python",
   "pygments_lexer": "ipython3",
   "version": "3.12.7"
  }
 },
 "nbformat": 4,
 "nbformat_minor": 5
}
